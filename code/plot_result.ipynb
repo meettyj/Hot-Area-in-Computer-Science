{
 "cells": [
  {
   "cell_type": "code",
   "execution_count": 2,
   "metadata": {},
   "outputs": [],
   "source": [
    "import matplotlib.pyplot as plt\n",
    "import os\n",
    "import json\n",
    "import pandas as pd\n",
    "import numpy as np"
   ]
  },
  {
   "cell_type": "code",
   "execution_count": 3,
   "metadata": {},
   "outputs": [],
   "source": [
    "#read all lines into a list\n",
    "def read_all(path):\n",
    "    files= os.listdir(path) \n",
    "    result = []\n",
    "    for file in files: \n",
    "        with open(path + \"/\" + file) as f:\n",
    "            for line in f:\n",
    "                result.append(json.loads(line))\n",
    "    return result"
   ]
  },
  {
   "cell_type": "code",
   "execution_count": 4,
   "metadata": {},
   "outputs": [],
   "source": [
    "def filter_by_prefix(cate_year_score, field, prefix):\n",
    "    res = []\n",
    "    for i in range(len(cate_year_score)):\n",
    "        if str(cate_year_score[i][field]).startswith(prefix):\n",
    "            res.append(cate_year_score[i])\n",
    "    return res"
   ]
  },
  {
   "cell_type": "code",
   "execution_count": 5,
   "metadata": {},
   "outputs": [],
   "source": [
    "def sort_by_score(cate_year_score):\n",
    "    def extract_score(json):\n",
    "        try:\n",
    "            return int(json['paper_score'])\n",
    "        except KeyError:\n",
    "            return 0\n",
    "    cate_year_score.sort(key = extract_score, reverse = True)"
   ]
  },
  {
   "cell_type": "code",
   "execution_count": 6,
   "metadata": {},
   "outputs": [],
   "source": [
    "#[start_year, end_year]\n",
    "def topN_category_every_year(cate_year_score, n, start_year, end_year):\n",
    "    res = []\n",
    "    for year in range(start_year, end_year + 1):\n",
    "        this_year_score = filter_by_prefix(cate_year_score, \"year\", str(year))\n",
    "        sort_by_score(this_year_score)\n",
    "        res.append(this_year_score[0:(n+1)])\n",
    "    return res"
   ]
  },
  {
   "cell_type": "code",
   "execution_count": 7,
   "metadata": {},
   "outputs": [],
   "source": [
    "def ranking_pass_years(cate_year_score, category, start_year, end_year):\n",
    "    def find_ranking(sort_list):\n",
    "        index = 1\n",
    "        for i in range(len(sort_list)):\n",
    "            if(sort_list[i]['cate'].startswith(category)):\n",
    "                return index\n",
    "            index += 1\n",
    "            \n",
    "    res = []\n",
    "    for year in range(start_year, end_year + 1):\n",
    "        this_year_score = filter_by_prefix(cate_year_score, \"year\", str(year))\n",
    "        sort_by_score(this_year_score)\n",
    "        res.append(find_ranking(this_year_score))\n",
    "    return res"
   ]
  },
  {
   "cell_type": "code",
   "execution_count": 8,
   "metadata": {},
   "outputs": [
    {
     "name": "stdout",
     "output_type": "stream",
     "text": [
      "{'cate': 'cs.LG', 'year': 2014, 'paper_score': 24382}\n",
      "{'cate': 'cs.GT', 'year': 2011, 'paper_score': 767}\n",
      "{'cate': 'physics.plasm-ph', 'year': 2008, 'paper_score': 1128}\n"
     ]
    }
   ],
   "source": [
    "cate_year_score = read_all(\"./paper_score\")\n",
    "for i in range(3):\n",
    "    print(cate_year_score[i])"
   ]
  },
  {
   "cell_type": "code",
   "execution_count": 9,
   "metadata": {},
   "outputs": [
    {
     "name": "stdout",
     "output_type": "stream",
     "text": [
      "{'cate': 'cs.LG', 'year': 2014, 'paper_score': 24382}\n",
      "{'cate': 'cs.GT', 'year': 2011, 'paper_score': 767}\n",
      "{'cate': 'cs.CG', 'year': 2011, 'paper_score': 726}\n"
     ]
    }
   ],
   "source": [
    "cs_category_year_score = filter_by_prefix(cate_year_score, \"cate\", \"cs.\")\n",
    "for i in range(3):\n",
    "    print(cs_category_year_score[i])"
   ]
  },
  {
   "cell_type": "code",
   "execution_count": 10,
   "metadata": {},
   "outputs": [],
   "source": [
    "#top 20 category in 2018\n",
    "res = topN_category_every_year(cs_category_year_score, 20, 2018, 2018)"
   ]
  },
  {
   "cell_type": "code",
   "execution_count": 11,
   "metadata": {},
   "outputs": [
    {
     "data": {
      "text/plain": [
       "[[{'cate': 'cs.LG', 'year': 2018, 'paper_score': 231},\n",
       "  {'cate': 'cs.DS', 'year': 2018, 'paper_score': 151},\n",
       "  {'cate': 'cs.IT', 'year': 2018, 'paper_score': 105},\n",
       "  {'cate': 'cs.DM', 'year': 2018, 'paper_score': 70},\n",
       "  {'cate': 'cs.CR', 'year': 2018, 'paper_score': 68},\n",
       "  {'cate': 'cs.CG', 'year': 2018, 'paper_score': 53},\n",
       "  {'cate': 'cs.CC', 'year': 2018, 'paper_score': 49},\n",
       "  {'cate': 'cs.GT', 'year': 2018, 'paper_score': 41},\n",
       "  {'cate': 'cs.DC', 'year': 2018, 'paper_score': 39},\n",
       "  {'cate': 'cs.SI', 'year': 2018, 'paper_score': 33},\n",
       "  {'cate': 'cs.DB', 'year': 2018, 'paper_score': 23},\n",
       "  {'cate': 'cs.LO', 'year': 2018, 'paper_score': 23},\n",
       "  {'cate': 'cs.NA', 'year': 2018, 'paper_score': 18},\n",
       "  {'cate': 'cs.HC', 'year': 2018, 'paper_score': 14},\n",
       "  {'cate': 'cs.NI', 'year': 2018, 'paper_score': 13},\n",
       "  {'cate': 'cs.IR', 'year': 2018, 'paper_score': 11},\n",
       "  {'cate': 'cs.PF', 'year': 2018, 'paper_score': 9},\n",
       "  {'cate': 'cs.CV', 'year': 2018, 'paper_score': 9},\n",
       "  {'cate': 'cs.SC', 'year': 2018, 'paper_score': 8},\n",
       "  {'cate': 'cs.RO', 'year': 2018, 'paper_score': 6},\n",
       "  {'cate': 'cs.FL', 'year': 2018, 'paper_score': 5}]]"
      ]
     },
     "execution_count": 11,
     "metadata": {},
     "output_type": "execute_result"
    }
   ],
   "source": [
    "res"
   ]
  },
  {
   "cell_type": "code",
   "execution_count": 15,
   "metadata": {},
   "outputs": [],
   "source": [
    "def plot_ranking(cs_category_year_score, category, start_year, end_year):\n",
    "    ranking = ranking_pass_years(cs_category_year_score, category, start_year, end_year)\n",
    "    plt.gca().invert_yaxis()\n",
    "    plt.plot(np.arange(2008, 2019, 1), ranking)"
   ]
  },
  {
   "cell_type": "code",
   "execution_count": 16,
   "metadata": {},
   "outputs": [
    {
     "data": {
      "image/png": "[encoded data removed]",
      "text/plain": [
       "<Figure size 432x288 with 1 Axes>"
      ]
     },
     "metadata": {
      "needs_background": "light"
     },
     "output_type": "display_data"
    }
   ],
   "source": [
    "#cs.LG - Machine Learning\n",
    "# find the ranking of Machine Learning in the pass 10 years\n",
    "plot_ranking(cs_category_year_score, 'cs.LG', 2008, 2018)"
   ]
  },
  {
   "cell_type": "code",
   "execution_count": 17,
   "metadata": {},
   "outputs": [
    {
     "data": {
      "image/png": "[encoded data removed]",
      "text/plain": [
       "<Figure size 432x288 with 1 Axes>"
      ]
     },
     "metadata": {
      "needs_background": "light"
     },
     "output_type": "display_data"
    }
   ],
   "source": [
    "#cs.DB - Databases\n",
    "plot_ranking(cs_category_year_score, 'cs.DB', 2008, 2018)"
   ]
  },
  {
   "cell_type": "code",
   "execution_count": 18,
   "metadata": {},
   "outputs": [
    {
     "data": {
      "image/png": "[encoded data removed]",
      "text/plain": [
       "<Figure size 432x288 with 1 Axes>"
      ]
     },
     "metadata": {
      "needs_background": "light"
     },
     "output_type": "display_data"
    }
   ],
   "source": [
    "#cs.CV: Computer Vision and Pattern Recognition \n",
    "plot_ranking(cs_category_year_score, 'cs.CV', 2008, 2018)"
   ]
  },
  {
   "cell_type": "code",
   "execution_count": null,
   "metadata": {},
   "outputs": [],
   "source": []
  }
 ],
 "metadata": {
  "kernelspec": {
   "display_name": "Python 3",
   "language": "python",
   "name": "python3"
  }
 },
 "nbformat": 4,
 "nbformat_minor": 2
}
